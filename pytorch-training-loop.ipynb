{
 "cells": [
  {
   "cell_type": "code",
   "execution_count": null,
   "metadata": {
    "colab": {
     "base_uri": "https://localhost:8080/"
    },
    "executionInfo": {
     "elapsed": 934,
     "status": "ok",
     "timestamp": 1622162613655,
     "user": {
      "displayName": "Ronak Mehta",
      "photoUrl": "https://lh3.googleusercontent.com/a-/AOh14GgvL0OEKDdfWJnnCVVtFTsqSBT6-uRCtSdS5vM7MA=s64",
      "userId": "12475517112718652159"
     },
     "user_tz": 420
    },
    "id": "kxyxHTiRbM2G",
    "outputId": "d8a42756-a05c-4154-a454-e689f9c60a13"
   },
   "outputs": [],
   "source": [
    "# !git clone https://github.com/ronakdm/pytorch_template.git"
   ]
  },
  {
   "cell_type": "code",
   "execution_count": null,
   "metadata": {
    "colab": {
     "base_uri": "https://localhost:8080/"
    },
    "executionInfo": {
     "elapsed": 1870,
     "status": "ok",
     "timestamp": 1622164008156,
     "user": {
      "displayName": "Ronak Mehta",
      "photoUrl": "https://lh3.googleusercontent.com/a-/AOh14GgvL0OEKDdfWJnnCVVtFTsqSBT6-uRCtSdS5vM7MA=s64",
      "userId": "12475517112718652159"
     },
     "user_tz": 420
    },
    "id": "1War02qoeCPq",
    "outputId": "7c7860d9-2b97-43c0-f67f-dce89bfd284b"
   },
   "outputs": [],
   "source": [
    "# %%bash\n",
    "# cd pytorch_template/\n",
    "# git pull\n",
    "# cd .."
   ]
  },
  {
   "cell_type": "code",
   "execution_count": 1,
   "metadata": {
    "executionInfo": {
     "elapsed": 534,
     "status": "ok",
     "timestamp": 1622164020655,
     "user": {
      "displayName": "Ronak Mehta",
      "photoUrl": "https://lh3.googleusercontent.com/a-/AOh14GgvL0OEKDdfWJnnCVVtFTsqSBT6-uRCtSdS5vM7MA=s64",
      "userId": "12475517112718652159"
     },
     "user_tz": 420
    },
    "id": "y4E9x8jkOOmu"
   },
   "outputs": [],
   "source": [
    "import torch\n",
    "from torch.optim import SGD\n",
    "import torch.nn as nn\n",
    "\n",
    "# import sys\n",
    "# sys.path.append(\"pytorch_template/\") # Use when running as a Colab notebook.\n",
    "\n",
    "from utils import set_device, get_train_val_dataloaders, train\n",
    "from datasets import MyDataset\n",
    "from models import MyModel"
   ]
  },
  {
   "cell_type": "code",
   "execution_count": 2,
   "metadata": {
    "colab": {
     "base_uri": "https://localhost:8080/"
    },
    "executionInfo": {
     "elapsed": 337,
     "status": "ok",
     "timestamp": 1622164022156,
     "user": {
      "displayName": "Ronak Mehta",
      "photoUrl": "https://lh3.googleusercontent.com/a-/AOh14GgvL0OEKDdfWJnnCVVtFTsqSBT6-uRCtSdS5vM7MA=s64",
      "userId": "12475517112718652159"
     },
     "user_tz": 420
    },
    "id": "gTAl0Z12ZjIe",
    "outputId": "2b74589c-eacb-473a-c764-156192ce587c"
   },
   "outputs": [
    {
     "name": "stdout",
     "output_type": "stream",
     "text": [
      "No GPU available, using the CPU instead.\n"
     ]
    }
   ],
   "source": [
    "device = set_device()"
   ]
  },
  {
   "cell_type": "code",
   "execution_count": 38,
   "metadata": {
    "colab": {
     "base_uri": "https://localhost:8080/"
    },
    "executionInfo": {
     "elapsed": 7,
     "status": "ok",
     "timestamp": 1622164022157,
     "user": {
      "displayName": "Ronak Mehta",
      "photoUrl": "https://lh3.googleusercontent.com/a-/AOh14GgvL0OEKDdfWJnnCVVtFTsqSBT6-uRCtSdS5vM7MA=s64",
      "userId": "12475517112718652159"
     },
     "user_tz": 420
    },
    "id": "WllQ6z8EPeg9",
    "outputId": "922a6f70-f347-4054-f0d5-632add0deeeb"
   },
   "outputs": [
    {
     "name": "stdout",
     "output_type": "stream",
     "text": [
      "  900 training samples\n",
      "  100 validation samples\n"
     ]
    }
   ],
   "source": [
    "n = 1000\n",
    "d = 2\n",
    "mean_scale=1\n",
    "cov_scales = [1, 0.5]\n",
    "\n",
    "dataset = MyDataset(n, d, mean_scale=mean_scale) \n",
    "batch_size = 32\n",
    "val_size = 0.1\n",
    "\n",
    "train_dataloader, validation_dataloader = get_train_val_dataloaders(dataset, val_size, batch_size)"
   ]
  },
  {
   "cell_type": "code",
   "execution_count": 39,
   "metadata": {
    "executionInfo": {
     "elapsed": 135,
     "status": "ok",
     "timestamp": 1622164032679,
     "user": {
      "displayName": "Ronak Mehta",
      "photoUrl": "https://lh3.googleusercontent.com/a-/AOh14GgvL0OEKDdfWJnnCVVtFTsqSBT6-uRCtSdS5vM7MA=s64",
      "userId": "12475517112718652159"
     },
     "user_tz": 420
    },
    "id": "7dWaUGRyPuS4"
   },
   "outputs": [],
   "source": [
    "model = MyModel(d, 10, 2)\n",
    "optimizer = SGD(model.parameters(), lr=0.1, momentum=0.9)"
   ]
  },
  {
   "cell_type": "code",
   "execution_count": 40,
   "metadata": {
    "executionInfo": {
     "elapsed": 130,
     "status": "ok",
     "timestamp": 1622164041469,
     "user": {
      "displayName": "Ronak Mehta",
      "photoUrl": "https://lh3.googleusercontent.com/a-/AOh14GgvL0OEKDdfWJnnCVVtFTsqSBT6-uRCtSdS5vM7MA=s64",
      "userId": "12475517112718652159"
     },
     "user_tz": 420
    },
    "id": "IDSx0qXCZrBz"
   },
   "outputs": [],
   "source": [
    "epochs = 10\n",
    "criterion = nn.CrossEntropyLoss() "
   ]
  },
  {
   "cell_type": "code",
   "execution_count": 41,
   "metadata": {
    "colab": {
     "base_uri": "https://localhost:8080/",
     "height": 936
    },
    "executionInfo": {
     "elapsed": 285,
     "status": "error",
     "timestamp": 1622164042833,
     "user": {
      "displayName": "Ronak Mehta",
      "photoUrl": "https://lh3.googleusercontent.com/a-/AOh14GgvL0OEKDdfWJnnCVVtFTsqSBT6-uRCtSdS5vM7MA=s64",
      "userId": "12475517112718652159"
     },
     "user_tz": 420
    },
    "id": "Soi9tZ7eQdMT",
    "outputId": "f7270ec7-fc56-4665-a08b-a9e8e5126a53"
   },
   "outputs": [
    {
     "name": "stdout",
     "output_type": "stream",
     "text": [
      "\n",
      "======== Epoch 1 / 10 ========\n",
      "Training...\n",
      "\n",
      "  Average training loss: 0.58\n",
      "  Training epoch took: 0:00:00\n",
      "\n",
      "Running Validation...\n",
      "  Accuracy: 0.95\n",
      "  Validation Loss: 0.44\n",
      "  Validation took: 0:00:00\n",
      "\n",
      "======== Epoch 2 / 10 ========\n",
      "Training...\n",
      "\n",
      "  Average training loss: 0.39\n",
      "  Training epoch took: 0:00:00\n",
      "\n",
      "Running Validation...\n",
      "  Accuracy: 0.95\n",
      "  Validation Loss: 0.36\n",
      "  Validation took: 0:00:00\n",
      "\n",
      "======== Epoch 3 / 10 ========\n",
      "Training...\n",
      "\n",
      "  Average training loss: 0.36\n",
      "  Training epoch took: 0:00:00\n",
      "\n",
      "Running Validation...\n",
      "  Accuracy: 0.95\n",
      "  Validation Loss: 0.36\n",
      "  Validation took: 0:00:00\n",
      "\n",
      "======== Epoch 4 / 10 ========\n",
      "Training...\n",
      "\n",
      "  Average training loss: 0.37\n",
      "  Training epoch took: 0:00:00\n",
      "\n",
      "Running Validation...\n",
      "  Accuracy: 0.89\n",
      "  Validation Loss: 0.41\n",
      "  Validation took: 0:00:00\n",
      "\n",
      "======== Epoch 5 / 10 ========\n",
      "Training...\n",
      "\n",
      "  Average training loss: 0.36\n",
      "  Training epoch took: 0:00:00\n",
      "\n",
      "Running Validation...\n",
      "  Accuracy: 0.95\n",
      "  Validation Loss: 0.36\n",
      "  Validation took: 0:00:00\n",
      "\n",
      "======== Epoch 6 / 10 ========\n",
      "Training...\n",
      "\n",
      "  Average training loss: 0.36\n",
      "  Training epoch took: 0:00:00\n",
      "\n",
      "Running Validation...\n",
      "  Accuracy: 0.95\n",
      "  Validation Loss: 0.36\n",
      "  Validation took: 0:00:00\n",
      "\n",
      "======== Epoch 7 / 10 ========\n",
      "Training...\n",
      "\n",
      "  Average training loss: 0.36\n",
      "  Training epoch took: 0:00:00\n",
      "\n",
      "Running Validation...\n",
      "  Accuracy: 0.95\n",
      "  Validation Loss: 0.37\n",
      "  Validation took: 0:00:00\n",
      "\n",
      "======== Epoch 8 / 10 ========\n",
      "Training...\n",
      "\n",
      "  Average training loss: 0.36\n",
      "  Training epoch took: 0:00:00\n",
      "\n",
      "Running Validation...\n",
      "  Accuracy: 0.89\n",
      "  Validation Loss: 0.42\n",
      "  Validation took: 0:00:00\n",
      "\n",
      "======== Epoch 9 / 10 ========\n",
      "Training...\n",
      "\n",
      "  Average training loss: 0.36\n",
      "  Training epoch took: 0:00:00\n",
      "\n",
      "Running Validation...\n",
      "  Accuracy: 0.95\n",
      "  Validation Loss: 0.36\n",
      "  Validation took: 0:00:00\n",
      "\n",
      "======== Epoch 10 / 10 ========\n",
      "Training...\n",
      "\n",
      "  Average training loss: 0.36\n",
      "  Training epoch took: 0:00:00\n",
      "\n",
      "Running Validation...\n",
      "  Accuracy: 0.84\n",
      "  Validation Loss: 0.47\n",
      "  Validation took: 0:00:00\n",
      "\n",
      "Training complete!\n",
      "Total training took 0:00:00 (h:mm:ss)\n"
     ]
    }
   ],
   "source": [
    "training_stats = train(model, epochs, train_dataloader, validation_dataloader, criterion, optimizer, device=device)"
   ]
  },
  {
   "cell_type": "code",
   "execution_count": null,
   "metadata": {
    "id": "wwAftS_5SoRV"
   },
   "outputs": [],
   "source": []
  }
 ],
 "metadata": {
  "colab": {
   "authorship_tag": "ABX9TyPvPGBQ/bcC4WNhO2uaKBwu",
   "collapsed_sections": [],
   "name": "pytorch-training-loop.ipynb",
   "provenance": []
  },
  "kernelspec": {
   "display_name": "Python 3",
   "language": "python",
   "name": "python3"
  },
  "language_info": {
   "codemirror_mode": {
    "name": "ipython",
    "version": 3
   },
   "file_extension": ".py",
   "mimetype": "text/x-python",
   "name": "python",
   "nbconvert_exporter": "python",
   "pygments_lexer": "ipython3",
   "version": "3.8.5"
  }
 },
 "nbformat": 4,
 "nbformat_minor": 1
}
